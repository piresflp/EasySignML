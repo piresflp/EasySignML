{
 "cells": [
  {
   "cell_type": "markdown",
   "metadata": {},
   "source": [
    "## 1. Importação e instalação das dependê"
   ]
  },
  {
   "cell_type": "code",
   "execution_count": null,
   "metadata": {
    "scrolled": true
   },
   "outputs": [],
   "source": [
    "#pip install tensorflow==2.4.1 tensorflow-gpu==2.4.1 opencv-python mediapipe==0.8.6.2 sklearn matplotlib --user"
   ]
  },
  {
   "cell_type": "code",
   "execution_count": 1,
   "metadata": {},
   "outputs": [],
   "source": [
    "import cv2\n",
    "import numpy as np\n",
    "import os\n",
    "from matplotlib import pyplot as plt\n",
    "import time\n",
    "import mediapipe as mp"
   ]
  },
  {
   "cell_type": "markdown",
   "metadata": {},
   "source": [
    "## 2. Mapeamento dos pontos-chave utilizando MediaPipe Holistic"
   ]
  },
  {
   "cell_type": "code",
   "execution_count": 2,
   "metadata": {},
   "outputs": [],
   "source": [
    "mp_holistic = mp.solutions.holistic # Modelo holístico\n",
    "mp_drawing = mp.solutions.drawing_utils # Desenho dos pontos"
   ]
  },
  {
   "cell_type": "code",
   "execution_count": 3,
   "metadata": {},
   "outputs": [],
   "source": [
    "def mediapipe_detection(image, model):\n",
    "    image = cv2.cvtColor(image, cv2.COLOR_BGR2RGB) # CONVERSÃO DAS CORES BGR para RGB\n",
    "    image.flags.writeable = False                  # Imagem não é mais alterável\n",
    "    results = model.process(image)                 # Faz a predição\n",
    "    image.flags.writeable = True                   # Imagem volta a ser alterável \n",
    "    image = cv2.cvtColor(image, cv2.COLOR_RGB2BGR) # CONVERSÃO DAS CORES RGB para BGR\n",
    "    return image, results"
   ]
  },
  {
   "cell_type": "code",
   "execution_count": 4,
   "metadata": {},
   "outputs": [],
   "source": [
    "def draw_landmarks(image, results):\n",
    "    mp_drawing.draw_landmarks(image, results.face_landmarks, mp_holistic.FACEMESH_CONTOURS) # Desenha conexões do rosto\n",
    "    mp_drawing.draw_landmarks(image, results.pose_landmarks, mp_holistic.POSE_CONNECTIONS) # Desenha conexões da pose\n",
    "    mp_drawing.draw_landmarks(image, results.left_hand_landmarks, mp_holistic.HAND_CONNECTIONS) # Desenha conexões da mão esquerda\n",
    "    mp_drawing.draw_landmarks(image, results.right_hand_landmarks, mp_holistic.HAND_CONNECTIONS) # Desenha conexões da mão direita"
   ]
  },
  {
   "cell_type": "code",
   "execution_count": 5,
   "metadata": {},
   "outputs": [],
   "source": [
    "def draw_styled_landmarks(image, results):\n",
    "    # Desenha conexões do rosto\n",
    "    mp_drawing.draw_landmarks(image, results.face_landmarks, mp_holistic.FACEMESH_CONTOURS, \n",
    "                             mp_drawing.DrawingSpec(color=(80,110,10), thickness=1, circle_radius=1), \n",
    "                             mp_drawing.DrawingSpec(color=(80,256,121), thickness=1, circle_radius=1)\n",
    "                             ) \n",
    "    # Desenha conexões da pose\n",
    "    mp_drawing.draw_landmarks(image, results.pose_landmarks, mp_holistic.POSE_CONNECTIONS,\n",
    "                             mp_drawing.DrawingSpec(color=(80,22,10), thickness=2, circle_radius=4), \n",
    "                             mp_drawing.DrawingSpec(color=(80,44,121), thickness=2, circle_radius=2)\n",
    "                             ) \n",
    "    # Desenha conexões da mão esquerda\n",
    "    mp_drawing.draw_landmarks(image, results.left_hand_landmarks, mp_holistic.HAND_CONNECTIONS, \n",
    "                             mp_drawing.DrawingSpec(color=(121,22,76), thickness=2, circle_radius=4), \n",
    "                             mp_drawing.DrawingSpec(color=(121,44,250), thickness=2, circle_radius=2)\n",
    "                             ) \n",
    "    # Desenha conexões da mão direita  \n",
    "    mp_drawing.draw_landmarks(image, results.right_hand_landmarks, mp_holistic.HAND_CONNECTIONS, \n",
    "                             mp_drawing.DrawingSpec(color=(245,117,66), thickness=2, circle_radius=4), \n",
    "                             mp_drawing.DrawingSpec(color=(245,66,230), thickness=2, circle_radius=2)\n",
    "                             )"
   ]
  },
  {
   "cell_type": "markdown",
   "metadata": {},
   "source": [
    "## 3. Extrair os ponto-chave"
   ]
  },
  {
   "cell_type": "code",
   "execution_count": 6,
   "metadata": {},
   "outputs": [],
   "source": [
    "def extract_keypoints(results):\n",
    "    pose = np.array([[res.x, res.y, res.z, res.visibility] for res in results.pose_landmarks.landmark]).flatten() if results.pose_landmarks else np.zeros(33*4)\n",
    "    face = np.array([[res.x, res.y, res.z] for res in results.face_landmarks.landmark]).flatten() if results.face_landmarks else np.zeros(468*3)\n",
    "    lh = np.array([[res.x, res.y, res.z] for res in results.left_hand_landmarks.landmark]).flatten() if results.left_hand_landmarks else np.zeros(21*3)\n",
    "    rh = np.array([[res.x, res.y, res.z] for res in results.right_hand_landmarks.landmark]).flatten() if results.right_hand_landmarks else np.zeros(21*3)\n",
    "    return np.concatenate([pose, face, lh, rh])"
   ]
  },
  {
   "cell_type": "markdown",
   "metadata": {},
   "source": [
    "## 4. Configuração das pastas para dados"
   ]
  },
  {
   "cell_type": "code",
   "execution_count": 7,
   "metadata": {},
   "outputs": [],
   "source": [
    "# Caminho para exportar o dado dos gestos\n",
    "DATA_PATH = os.path.join('MP_Data') \n",
    "\n",
    "# Acoes que iremos detectar\n",
    "actions = np.array(['lingua_de_sinais', 'surdo', 'conhecer', 'amigo','entender','denovo','estudar',])\n",
    "\n",
    "# 65 videos para cada pose\n",
    "no_sequences = 50\n",
    "\n",
    "# Cada possuira 30 frames\n",
    "sequence_length = 30"
   ]
  },
  {
   "cell_type": "code",
   "execution_count": 8,
   "metadata": {},
   "outputs": [],
   "source": [
    "for action in actions: # para cada gesto\n",
    "    for sequence in range(no_sequences): # para cada frame\n",
    "        try: \n",
    "            os.makedirs(os.path.join(DATA_PATH, action, str(sequence))) # cria o diretório\n",
    "        except:\n",
    "            pass"
   ]
  },
  {
   "cell_type": "markdown",
   "metadata": {},
   "source": [
    "## 5. Coleta os ponto-chave para treinamento e testes"
   ]
  },
  {
   "cell_type": "code",
   "execution_count": null,
   "metadata": {},
   "outputs": [],
   "source": [
    "cap = cv2.VideoCapture(0)\n",
    "# Configura o modelo mediapipe\n",
    "with mp_holistic.Holistic(min_detection_confidence=0.5, min_tracking_confidence=0.5) as holistic:\n",
    "    \n",
    "    # Loop pelos gestos\n",
    "    for action in actions:\n",
    "        # Loop pelas sequências (videos)\n",
    "        for sequence in range(no_sequences):\n",
    "            # Loop pelos frames\n",
    "            for frame_num in range(sequence_length):\n",
    "\n",
    "                # Le a camera\n",
    "                ret, frame = cap.read()\n",
    "\n",
    "                # Faz as detecções\n",
    "                image, results = mediapipe_detection(frame, holistic)\n",
    "                # print(results)\n",
    "\n",
    "                # Desenha os ponto-chave\n",
    "                draw_styled_landmarks(image, results)\n",
    "                \n",
    "                # se for o início de um vídeo\n",
    "                if frame_num == 0: \n",
    "                    cv2.putText(image, 'STARTING COLLECTION', (120,200), \n",
    "                               cv2.FONT_HERSHEY_SIMPLEX, 1, (0,255, 0), 4, cv2.LINE_AA)\n",
    "                    cv2.putText(image, 'Collecting frames for {} Video Number {}'.format(action, sequence), (15,12), \n",
    "                               cv2.FONT_HERSHEY_SIMPLEX, 0.5, (0, 0, 255), 1, cv2.LINE_AA)\n",
    "                    # Mostra na tela\n",
    "                    cv2.imshow('OpenCV Feed', image)\n",
    "                    cv2.waitKey(500)\n",
    "                else: \n",
    "                    cv2.putText(image, 'Collecting frames for {} Video Number {}'.format(action, sequence), (15,12), \n",
    "                               cv2.FONT_HERSHEY_SIMPLEX, 0.5, (0, 0, 255), 1, cv2.LINE_AA)\n",
    "                    # Mostra na tela\n",
    "                    cv2.imshow('OpenCV Feed', image)\n",
    "                \n",
    "                \n",
    "                keypoints = extract_keypoints(results)\n",
    "                npy_path = os.path.join(DATA_PATH, action, str(sequence), str(frame_num))\n",
    "                np.save(npy_path, keypoints)\n",
    "\n",
    "                # Sai do programa\n",
    "                if cv2.waitKey(10) & 0xFF == ord('q'):\n",
    "                    break\n",
    "                    \n",
    "    cap.release()\n",
    "    cv2.destroyAllWindows()"
   ]
  },
  {
   "cell_type": "markdown",
   "metadata": {},
   "source": [
    "## 6. Configuração e treinamento da Rede Neural LSTM"
   ]
  },
  {
   "cell_type": "code",
   "execution_count": 9,
   "metadata": {},
   "outputs": [],
   "source": [
    "from tensorflow.keras.models import Sequential\n",
    "from tensorflow.keras.layers import LSTM, Dense\n",
    "from tensorflow.keras.callbacks import TensorBoard"
   ]
  },
  {
   "cell_type": "code",
   "execution_count": 10,
   "metadata": {},
   "outputs": [],
   "source": [
    "from sklearn.model_selection import train_test_split\n",
    "from tensorflow.keras.utils import to_categorical"
   ]
  },
  {
   "cell_type": "code",
   "execution_count": 11,
   "metadata": {},
   "outputs": [],
   "source": [
    "label_map = {label:num for num, label in enumerate(actions)}"
   ]
  },
  {
   "cell_type": "code",
   "execution_count": 12,
   "metadata": {},
   "outputs": [],
   "source": [
    "# Coleta os dados das pastas\n",
    "sequences, labels = [], []\n",
    "for action in actions:\n",
    "    for sequence in range(no_sequences):\n",
    "        window = []\n",
    "        for frame_num in range(sequence_length):\n",
    "            res = np.load(os.path.join(DATA_PATH, action, str(sequence), \"{}.npy\".format(frame_num)))\n",
    "            window.append(res)\n",
    "        sequences.append(window)\n",
    "        labels.append(label_map[action])"
   ]
  },
  {
   "cell_type": "code",
   "execution_count": 13,
   "metadata": {},
   "outputs": [],
   "source": [
    "X = np.array(sequences) # dados de treinamento"
   ]
  },
  {
   "cell_type": "code",
   "execution_count": 14,
   "metadata": {},
   "outputs": [],
   "source": [
    "y = to_categorical(labels).astype(int) # rótulo dos sinais"
   ]
  },
  {
   "cell_type": "code",
   "execution_count": 15,
   "metadata": {},
   "outputs": [],
   "source": [
    "X_train, X_test, y_train, y_test = train_test_split(X, y, test_size=0.1) # separação dos dados de treinamento, 20% será utilizado para testes"
   ]
  },
  {
   "cell_type": "code",
   "execution_count": 16,
   "metadata": {},
   "outputs": [],
   "source": [
    "log_dir = os.path.join('Logs')\n",
    "tb_callback = TensorBoard(log_dir=log_dir)"
   ]
  },
  {
   "cell_type": "code",
   "execution_count": 17,
   "metadata": {},
   "outputs": [],
   "source": [
    "model = Sequential()\n",
    "model.add(LSTM(64, return_sequences=True, activation='relu', input_shape=(30,1662)))\n",
    "model.add(LSTM(128, return_sequences=True, activation='relu'))\n",
    "model.add(LSTM(64, return_sequences=False, activation='relu'))\n",
    "model.add(Dense(64, activation='relu'))\n",
    "model.add(Dense(32, activation='relu'))\n",
    "model.add(Dense(actions.shape[0], activation='softmax'))"
   ]
  },
  {
   "cell_type": "code",
   "execution_count": 18,
   "metadata": {},
   "outputs": [],
   "source": [
    "model.compile(optimizer='Adam', loss='categorical_crossentropy', metrics=['categorical_accuracy'])"
   ]
  },
  {
   "cell_type": "code",
   "execution_count": 19,
   "metadata": {
    "scrolled": false
   },
   "outputs": [
    {
     "name": "stdout",
     "output_type": "stream",
     "text": [
      "Epoch 1/120\n",
      "10/10 [==============================] - 4s 97ms/step - loss: 2.8674 - categorical_accuracy: 0.1574\n",
      "Epoch 2/120\n",
      "10/10 [==============================] - 1s 55ms/step - loss: 1.9034 - categorical_accuracy: 0.1482\n",
      "Epoch 3/120\n",
      "10/10 [==============================] - 1s 54ms/step - loss: 1.6725 - categorical_accuracy: 0.2309\n",
      "Epoch 4/120\n",
      "10/10 [==============================] - 1s 52ms/step - loss: 1.6071 - categorical_accuracy: 0.3402\n",
      "Epoch 5/120\n",
      "10/10 [==============================] - 1s 52ms/step - loss: 1.6006 - categorical_accuracy: 0.3848\n",
      "Epoch 6/120\n",
      "10/10 [==============================] - 1s 53ms/step - loss: 1.5770 - categorical_accuracy: 0.4116\n",
      "Epoch 7/120\n",
      "10/10 [==============================] - 1s 52ms/step - loss: 1.3970 - categorical_accuracy: 0.4350\n",
      "Epoch 8/120\n",
      "10/10 [==============================] - 1s 52ms/step - loss: 1.4054 - categorical_accuracy: 0.4190\n",
      "Epoch 9/120\n",
      "10/10 [==============================] - 1s 54ms/step - loss: 1.1650 - categorical_accuracy: 0.5022\n",
      "Epoch 10/120\n",
      "10/10 [==============================] - 1s 54ms/step - loss: 1.1234 - categorical_accuracy: 0.5677\n",
      "Epoch 11/120\n",
      "10/10 [==============================] - 1s 55ms/step - loss: 1.1044 - categorical_accuracy: 0.5529\n",
      "Epoch 12/120\n",
      "10/10 [==============================] - 1s 52ms/step - loss: 0.8930 - categorical_accuracy: 0.6209\n",
      "Epoch 13/120\n",
      "10/10 [==============================] - 1s 54ms/step - loss: 0.9117 - categorical_accuracy: 0.5721\n",
      "Epoch 14/120\n",
      "10/10 [==============================] - 1s 54ms/step - loss: 0.7529 - categorical_accuracy: 0.6401\n",
      "Epoch 15/120\n",
      "10/10 [==============================] - 1s 56ms/step - loss: 0.8831 - categorical_accuracy: 0.6395\n",
      "Epoch 16/120\n",
      "10/10 [==============================] - 1s 54ms/step - loss: 0.6186 - categorical_accuracy: 0.7031\n",
      "Epoch 17/120\n",
      "10/10 [==============================] - 1s 54ms/step - loss: 0.5849 - categorical_accuracy: 0.7813\n",
      "Epoch 18/120\n",
      "10/10 [==============================] - 1s 55ms/step - loss: 0.6498 - categorical_accuracy: 0.7528\n",
      "Epoch 19/120\n",
      "10/10 [==============================] - 1s 52ms/step - loss: 0.4804 - categorical_accuracy: 0.8050\n",
      "Epoch 20/120\n",
      "10/10 [==============================] - 1s 54ms/step - loss: 0.6409 - categorical_accuracy: 0.7426\n",
      "Epoch 21/120\n",
      "10/10 [==============================] - 1s 53ms/step - loss: 0.7677 - categorical_accuracy: 0.6687\n",
      "Epoch 22/120\n",
      "10/10 [==============================] - 1s 57ms/step - loss: 0.4084 - categorical_accuracy: 0.8539\n",
      "Epoch 23/120\n",
      "10/10 [==============================] - 1s 52ms/step - loss: 0.4799 - categorical_accuracy: 0.8692\n",
      "Epoch 24/120\n",
      "10/10 [==============================] - 1s 52ms/step - loss: 1.4159 - categorical_accuracy: 0.5288\n",
      "Epoch 25/120\n",
      "10/10 [==============================] - 1s 57ms/step - loss: 1.3619 - categorical_accuracy: 0.5102\n",
      "Epoch 26/120\n",
      "10/10 [==============================] - 1s 53ms/step - loss: 0.9738 - categorical_accuracy: 0.5860\n",
      "Epoch 27/120\n",
      "10/10 [==============================] - 1s 54ms/step - loss: 0.5979 - categorical_accuracy: 0.7915\n",
      "Epoch 28/120\n",
      "10/10 [==============================] - 1s 52ms/step - loss: 0.4056 - categorical_accuracy: 0.8142\n",
      "Epoch 29/120\n",
      "10/10 [==============================] - 1s 55ms/step - loss: 0.8271 - categorical_accuracy: 0.6461\n",
      "Epoch 30/120\n",
      "10/10 [==============================] - 1s 52ms/step - loss: 0.4976 - categorical_accuracy: 0.8024\n",
      "Epoch 31/120\n",
      "10/10 [==============================] - 1s 50ms/step - loss: 0.3391 - categorical_accuracy: 0.9073\n",
      "Epoch 32/120\n",
      "10/10 [==============================] - 1s 53ms/step - loss: 0.2594 - categorical_accuracy: 0.9171\n",
      "Epoch 33/120\n",
      "10/10 [==============================] - 1s 54ms/step - loss: 0.4159 - categorical_accuracy: 0.8246\n",
      "Epoch 34/120\n",
      "10/10 [==============================] - 1s 52ms/step - loss: 0.4297 - categorical_accuracy: 0.8446\n",
      "Epoch 35/120\n",
      "10/10 [==============================] - 1s 53ms/step - loss: 0.3024 - categorical_accuracy: 0.9081\n",
      "Epoch 36/120\n",
      "10/10 [==============================] - 1s 55ms/step - loss: 0.2386 - categorical_accuracy: 0.9338\n",
      "Epoch 37/120\n",
      "10/10 [==============================] - 1s 56ms/step - loss: 0.1629 - categorical_accuracy: 0.9500\n",
      "Epoch 38/120\n",
      "10/10 [==============================] - 1s 57ms/step - loss: 0.1629 - categorical_accuracy: 0.9572\n",
      "Epoch 39/120\n",
      "10/10 [==============================] - 1s 53ms/step - loss: 0.2988 - categorical_accuracy: 0.9076\n",
      "Epoch 40/120\n",
      "10/10 [==============================] - 1s 53ms/step - loss: 0.1679 - categorical_accuracy: 0.9570\n",
      "Epoch 41/120\n",
      "10/10 [==============================] - 1s 54ms/step - loss: 0.0991 - categorical_accuracy: 0.9712\n",
      "Epoch 42/120\n",
      "10/10 [==============================] - 1s 52ms/step - loss: 0.0448 - categorical_accuracy: 0.9839\n",
      "Epoch 43/120\n",
      "10/10 [==============================] - 1s 54ms/step - loss: 0.1211 - categorical_accuracy: 0.9575\n",
      "Epoch 44/120\n",
      "10/10 [==============================] - 1s 53ms/step - loss: 0.2057 - categorical_accuracy: 0.9424\n",
      "Epoch 45/120\n",
      "10/10 [==============================] - 1s 54ms/step - loss: 0.4569 - categorical_accuracy: 0.8324\n",
      "Epoch 46/120\n",
      "10/10 [==============================] - 1s 51ms/step - loss: 0.3681 - categorical_accuracy: 0.8577\n",
      "Epoch 47/120\n",
      "10/10 [==============================] - 1s 57ms/step - loss: 0.2332 - categorical_accuracy: 0.9089\n",
      "Epoch 48/120\n",
      "10/10 [==============================] - 1s 54ms/step - loss: 0.1444 - categorical_accuracy: 0.9509\n",
      "Epoch 49/120\n",
      "10/10 [==============================] - 1s 54ms/step - loss: 0.1041 - categorical_accuracy: 0.9757\n",
      "Epoch 50/120\n",
      "10/10 [==============================] - 1s 55ms/step - loss: 0.0734 - categorical_accuracy: 0.9793\n",
      "Epoch 51/120\n",
      "10/10 [==============================] - 1s 55ms/step - loss: 0.0651 - categorical_accuracy: 0.9832\n",
      "Epoch 52/120\n",
      "10/10 [==============================] - 1s 59ms/step - loss: 0.0751 - categorical_accuracy: 0.9792\n",
      "Epoch 53/120\n",
      "10/10 [==============================] - 1s 53ms/step - loss: 0.1185 - categorical_accuracy: 0.9701\n",
      "Epoch 54/120\n",
      "10/10 [==============================] - 1s 56ms/step - loss: 0.0660 - categorical_accuracy: 0.9797\n",
      "Epoch 55/120\n",
      "10/10 [==============================] - 1s 55ms/step - loss: 0.1037 - categorical_accuracy: 0.9670\n",
      "Epoch 56/120\n",
      "10/10 [==============================] - 1s 52ms/step - loss: 0.0596 - categorical_accuracy: 0.9778\n",
      "Epoch 57/120\n",
      "10/10 [==============================] - 1s 53ms/step - loss: 0.0277 - categorical_accuracy: 0.9965\n",
      "Epoch 58/120\n",
      "10/10 [==============================] - 1s 53ms/step - loss: 0.0315 - categorical_accuracy: 0.9887\n",
      "Epoch 59/120\n",
      "10/10 [==============================] - 1s 52ms/step - loss: 0.0504 - categorical_accuracy: 0.9856\n",
      "Epoch 60/120\n",
      "10/10 [==============================] - 1s 53ms/step - loss: 0.0285 - categorical_accuracy: 0.9929\n",
      "Epoch 61/120\n",
      "10/10 [==============================] - 1s 53ms/step - loss: 0.0198 - categorical_accuracy: 0.9908\n",
      "Epoch 62/120\n",
      "10/10 [==============================] - 1s 53ms/step - loss: 0.0283 - categorical_accuracy: 0.9899\n",
      "Epoch 63/120\n",
      "10/10 [==============================] - 1s 55ms/step - loss: 0.1634 - categorical_accuracy: 0.9809\n",
      "Epoch 64/120\n",
      "10/10 [==============================] - 1s 52ms/step - loss: 1.1365 - categorical_accuracy: 0.8121\n",
      "Epoch 65/120\n",
      "10/10 [==============================] - 1s 55ms/step - loss: 1.0309 - categorical_accuracy: 0.5731\n",
      "Epoch 66/120\n",
      "10/10 [==============================] - 1s 53ms/step - loss: 1.1708 - categorical_accuracy: 0.7496\n",
      "Epoch 67/120\n",
      "10/10 [==============================] - 1s 54ms/step - loss: 0.8863 - categorical_accuracy: 0.5868\n",
      "Epoch 68/120\n",
      "10/10 [==============================] - 1s 51ms/step - loss: 0.5922 - categorical_accuracy: 0.8960\n",
      "Epoch 69/120\n",
      "10/10 [==============================] - 1s 52ms/step - loss: 0.3904 - categorical_accuracy: 0.8935\n",
      "Epoch 70/120\n",
      "10/10 [==============================] - 1s 53ms/step - loss: 0.3663 - categorical_accuracy: 0.9130\n",
      "Epoch 71/120\n",
      "10/10 [==============================] - 1s 53ms/step - loss: 0.4611 - categorical_accuracy: 0.8543\n",
      "Epoch 72/120\n",
      "10/10 [==============================] - 1s 52ms/step - loss: 0.8782 - categorical_accuracy: 0.7184\n",
      "Epoch 73/120\n"
     ]
    },
    {
     "name": "stdout",
     "output_type": "stream",
     "text": [
      "10/10 [==============================] - 1s 54ms/step - loss: 1.0707 - categorical_accuracy: 0.5808\n",
      "Epoch 74/120\n",
      "10/10 [==============================] - 1s 53ms/step - loss: 0.8287 - categorical_accuracy: 0.6822\n",
      "Epoch 75/120\n",
      "10/10 [==============================] - 1s 51ms/step - loss: 0.5899 - categorical_accuracy: 0.7325\n",
      "Epoch 76/120\n",
      "10/10 [==============================] - 1s 53ms/step - loss: 0.3979 - categorical_accuracy: 0.8843\n",
      "Epoch 77/120\n",
      "10/10 [==============================] - 1s 51ms/step - loss: 0.3089 - categorical_accuracy: 0.9045\n",
      "Epoch 78/120\n",
      "10/10 [==============================] - 1s 52ms/step - loss: 0.6483 - categorical_accuracy: 0.7983\n",
      "Epoch 79/120\n",
      "10/10 [==============================] - 1s 54ms/step - loss: 0.6885 - categorical_accuracy: 0.8065\n",
      "Epoch 80/120\n",
      "10/10 [==============================] - 1s 54ms/step - loss: 0.4805 - categorical_accuracy: 0.8196\n",
      "Epoch 81/120\n",
      "10/10 [==============================] - 1s 54ms/step - loss: 0.3186 - categorical_accuracy: 0.8562\n",
      "Epoch 82/120\n",
      "10/10 [==============================] - 1s 55ms/step - loss: 0.2876 - categorical_accuracy: 0.8600\n",
      "Epoch 83/120\n",
      "10/10 [==============================] - 1s 53ms/step - loss: 0.3280 - categorical_accuracy: 0.9166\n",
      "Epoch 84/120\n",
      "10/10 [==============================] - 1s 54ms/step - loss: 0.1871 - categorical_accuracy: 0.9546\n",
      "Epoch 85/120\n",
      "10/10 [==============================] - 1s 52ms/step - loss: 0.3506 - categorical_accuracy: 0.8902\n",
      "Epoch 86/120\n",
      "10/10 [==============================] - 1s 57ms/step - loss: 0.3123 - categorical_accuracy: 0.8732\n",
      "Epoch 87/120\n",
      "10/10 [==============================] - 1s 53ms/step - loss: 0.2408 - categorical_accuracy: 0.9212\n",
      "Epoch 88/120\n",
      "10/10 [==============================] - 1s 55ms/step - loss: 0.1988 - categorical_accuracy: 0.9242\n",
      "Epoch 89/120\n",
      "10/10 [==============================] - 1s 54ms/step - loss: 0.2291 - categorical_accuracy: 0.9392\n",
      "Epoch 90/120\n",
      "10/10 [==============================] - 1s 52ms/step - loss: 0.2234 - categorical_accuracy: 0.8986\n",
      "Epoch 91/120\n",
      "10/10 [==============================] - 1s 54ms/step - loss: 0.1909 - categorical_accuracy: 0.9302\n",
      "Epoch 92/120\n",
      "10/10 [==============================] - 1s 54ms/step - loss: 0.3223 - categorical_accuracy: 0.9017\n",
      "Epoch 93/120\n",
      "10/10 [==============================] - 1s 51ms/step - loss: 0.6438 - categorical_accuracy: 0.7904\n",
      "Epoch 94/120\n",
      "10/10 [==============================] - 1s 53ms/step - loss: 3454.6263 - categorical_accuracy: 0.7197\n",
      "Epoch 95/120\n",
      "10/10 [==============================] - 1s 56ms/step - loss: 99.4902 - categorical_accuracy: 0.1239\n",
      "Epoch 96/120\n",
      "10/10 [==============================] - 1s 54ms/step - loss: 1988.1470 - categorical_accuracy: 0.1590\n",
      "Epoch 97/120\n",
      "10/10 [==============================] - 1s 55ms/step - loss: 417.4631 - categorical_accuracy: 0.1214\n",
      "Epoch 98/120\n",
      "10/10 [==============================] - 1s 56ms/step - loss: 65.2423 - categorical_accuracy: 0.1983\n",
      "Epoch 99/120\n",
      "10/10 [==============================] - 1s 55ms/step - loss: 30.4034 - categorical_accuracy: 0.0978\n",
      "Epoch 100/120\n",
      " 8/10 [=======================>......] - ETA: 0s - loss: 7.9463 - categorical_accuracy: 0.1216"
     ]
    },
    {
     "ename": "KeyboardInterrupt",
     "evalue": "",
     "output_type": "error",
     "traceback": [
      "\u001b[0;31m---------------------------------------------------------------------------\u001b[0m",
      "\u001b[0;31mKeyboardInterrupt\u001b[0m                         Traceback (most recent call last)",
      "\u001b[0;32m<ipython-input-19-7a68e6926e0e>\u001b[0m in \u001b[0;36m<module>\u001b[0;34m\u001b[0m\n\u001b[1;32m      1\u001b[0m \u001b[0;31m#from tensorflow.keras.callbacks import EarlyStopping\u001b[0m\u001b[0;34m\u001b[0m\u001b[0;34m\u001b[0m\u001b[0;34m\u001b[0m\u001b[0m\n\u001b[1;32m      2\u001b[0m \u001b[0;31m#early_stop = EarlyStopping(monitor='loss',mode='min',verbose=1,patience=25)\u001b[0m\u001b[0;34m\u001b[0m\u001b[0;34m\u001b[0m\u001b[0;34m\u001b[0m\u001b[0m\n\u001b[0;32m----> 3\u001b[0;31m \u001b[0mmodel\u001b[0m\u001b[0;34m.\u001b[0m\u001b[0mfit\u001b[0m\u001b[0;34m(\u001b[0m\u001b[0mX_train\u001b[0m\u001b[0;34m,\u001b[0m \u001b[0my_train\u001b[0m\u001b[0;34m,\u001b[0m \u001b[0mepochs\u001b[0m\u001b[0;34m=\u001b[0m\u001b[0;36m120\u001b[0m\u001b[0;34m,\u001b[0m \u001b[0mcallbacks\u001b[0m\u001b[0;34m=\u001b[0m\u001b[0;34m[\u001b[0m\u001b[0mtb_callback\u001b[0m\u001b[0;34m]\u001b[0m\u001b[0;34m)\u001b[0m\u001b[0;34m\u001b[0m\u001b[0;34m\u001b[0m\u001b[0m\n\u001b[0m",
      "\u001b[0;32m~/anaconda3/lib/python3.8/site-packages/tensorflow/python/keras/engine/training.py\u001b[0m in \u001b[0;36mfit\u001b[0;34m(self, x, y, batch_size, epochs, verbose, callbacks, validation_split, validation_data, shuffle, class_weight, sample_weight, initial_epoch, steps_per_epoch, validation_steps, validation_batch_size, validation_freq, max_queue_size, workers, use_multiprocessing)\u001b[0m\n\u001b[1;32m   1098\u001b[0m                 _r=1):\n\u001b[1;32m   1099\u001b[0m               \u001b[0mcallbacks\u001b[0m\u001b[0;34m.\u001b[0m\u001b[0mon_train_batch_begin\u001b[0m\u001b[0;34m(\u001b[0m\u001b[0mstep\u001b[0m\u001b[0;34m)\u001b[0m\u001b[0;34m\u001b[0m\u001b[0;34m\u001b[0m\u001b[0m\n\u001b[0;32m-> 1100\u001b[0;31m               \u001b[0mtmp_logs\u001b[0m \u001b[0;34m=\u001b[0m \u001b[0mself\u001b[0m\u001b[0;34m.\u001b[0m\u001b[0mtrain_function\u001b[0m\u001b[0;34m(\u001b[0m\u001b[0miterator\u001b[0m\u001b[0;34m)\u001b[0m\u001b[0;34m\u001b[0m\u001b[0;34m\u001b[0m\u001b[0m\n\u001b[0m\u001b[1;32m   1101\u001b[0m               \u001b[0;32mif\u001b[0m \u001b[0mdata_handler\u001b[0m\u001b[0;34m.\u001b[0m\u001b[0mshould_sync\u001b[0m\u001b[0;34m:\u001b[0m\u001b[0;34m\u001b[0m\u001b[0;34m\u001b[0m\u001b[0m\n\u001b[1;32m   1102\u001b[0m                 \u001b[0mcontext\u001b[0m\u001b[0;34m.\u001b[0m\u001b[0masync_wait\u001b[0m\u001b[0;34m(\u001b[0m\u001b[0;34m)\u001b[0m\u001b[0;34m\u001b[0m\u001b[0;34m\u001b[0m\u001b[0m\n",
      "\u001b[0;32m~/anaconda3/lib/python3.8/site-packages/tensorflow/python/eager/def_function.py\u001b[0m in \u001b[0;36m__call__\u001b[0;34m(self, *args, **kwds)\u001b[0m\n\u001b[1;32m    826\u001b[0m     \u001b[0mtracing_count\u001b[0m \u001b[0;34m=\u001b[0m \u001b[0mself\u001b[0m\u001b[0;34m.\u001b[0m\u001b[0mexperimental_get_tracing_count\u001b[0m\u001b[0;34m(\u001b[0m\u001b[0;34m)\u001b[0m\u001b[0;34m\u001b[0m\u001b[0;34m\u001b[0m\u001b[0m\n\u001b[1;32m    827\u001b[0m     \u001b[0;32mwith\u001b[0m \u001b[0mtrace\u001b[0m\u001b[0;34m.\u001b[0m\u001b[0mTrace\u001b[0m\u001b[0;34m(\u001b[0m\u001b[0mself\u001b[0m\u001b[0;34m.\u001b[0m\u001b[0m_name\u001b[0m\u001b[0;34m)\u001b[0m \u001b[0;32mas\u001b[0m \u001b[0mtm\u001b[0m\u001b[0;34m:\u001b[0m\u001b[0;34m\u001b[0m\u001b[0;34m\u001b[0m\u001b[0m\n\u001b[0;32m--> 828\u001b[0;31m       \u001b[0mresult\u001b[0m \u001b[0;34m=\u001b[0m \u001b[0mself\u001b[0m\u001b[0;34m.\u001b[0m\u001b[0m_call\u001b[0m\u001b[0;34m(\u001b[0m\u001b[0;34m*\u001b[0m\u001b[0margs\u001b[0m\u001b[0;34m,\u001b[0m \u001b[0;34m**\u001b[0m\u001b[0mkwds\u001b[0m\u001b[0;34m)\u001b[0m\u001b[0;34m\u001b[0m\u001b[0;34m\u001b[0m\u001b[0m\n\u001b[0m\u001b[1;32m    829\u001b[0m       \u001b[0mcompiler\u001b[0m \u001b[0;34m=\u001b[0m \u001b[0;34m\"xla\"\u001b[0m \u001b[0;32mif\u001b[0m \u001b[0mself\u001b[0m\u001b[0;34m.\u001b[0m\u001b[0m_experimental_compile\u001b[0m \u001b[0;32melse\u001b[0m \u001b[0;34m\"nonXla\"\u001b[0m\u001b[0;34m\u001b[0m\u001b[0;34m\u001b[0m\u001b[0m\n\u001b[1;32m    830\u001b[0m       \u001b[0mnew_tracing_count\u001b[0m \u001b[0;34m=\u001b[0m \u001b[0mself\u001b[0m\u001b[0;34m.\u001b[0m\u001b[0mexperimental_get_tracing_count\u001b[0m\u001b[0;34m(\u001b[0m\u001b[0;34m)\u001b[0m\u001b[0;34m\u001b[0m\u001b[0;34m\u001b[0m\u001b[0m\n",
      "\u001b[0;32m~/anaconda3/lib/python3.8/site-packages/tensorflow/python/eager/def_function.py\u001b[0m in \u001b[0;36m_call\u001b[0;34m(self, *args, **kwds)\u001b[0m\n\u001b[1;32m    853\u001b[0m       \u001b[0;31m# In this case we have created variables on the first call, so we run the\u001b[0m\u001b[0;34m\u001b[0m\u001b[0;34m\u001b[0m\u001b[0;34m\u001b[0m\u001b[0m\n\u001b[1;32m    854\u001b[0m       \u001b[0;31m# defunned version which is guaranteed to never create variables.\u001b[0m\u001b[0;34m\u001b[0m\u001b[0;34m\u001b[0m\u001b[0;34m\u001b[0m\u001b[0m\n\u001b[0;32m--> 855\u001b[0;31m       \u001b[0;32mreturn\u001b[0m \u001b[0mself\u001b[0m\u001b[0;34m.\u001b[0m\u001b[0m_stateless_fn\u001b[0m\u001b[0;34m(\u001b[0m\u001b[0;34m*\u001b[0m\u001b[0margs\u001b[0m\u001b[0;34m,\u001b[0m \u001b[0;34m**\u001b[0m\u001b[0mkwds\u001b[0m\u001b[0;34m)\u001b[0m  \u001b[0;31m# pylint: disable=not-callable\u001b[0m\u001b[0;34m\u001b[0m\u001b[0;34m\u001b[0m\u001b[0m\n\u001b[0m\u001b[1;32m    856\u001b[0m     \u001b[0;32melif\u001b[0m \u001b[0mself\u001b[0m\u001b[0;34m.\u001b[0m\u001b[0m_stateful_fn\u001b[0m \u001b[0;32mis\u001b[0m \u001b[0;32mnot\u001b[0m \u001b[0;32mNone\u001b[0m\u001b[0;34m:\u001b[0m\u001b[0;34m\u001b[0m\u001b[0;34m\u001b[0m\u001b[0m\n\u001b[1;32m    857\u001b[0m       \u001b[0;31m# Release the lock early so that multiple threads can perform the call\u001b[0m\u001b[0;34m\u001b[0m\u001b[0;34m\u001b[0m\u001b[0;34m\u001b[0m\u001b[0m\n",
      "\u001b[0;32m~/anaconda3/lib/python3.8/site-packages/tensorflow/python/eager/function.py\u001b[0m in \u001b[0;36m__call__\u001b[0;34m(self, *args, **kwargs)\u001b[0m\n\u001b[1;32m   2940\u001b[0m       (graph_function,\n\u001b[1;32m   2941\u001b[0m        filtered_flat_args) = self._maybe_define_function(args, kwargs)\n\u001b[0;32m-> 2942\u001b[0;31m     return graph_function._call_flat(\n\u001b[0m\u001b[1;32m   2943\u001b[0m         filtered_flat_args, captured_inputs=graph_function.captured_inputs)  # pylint: disable=protected-access\n\u001b[1;32m   2944\u001b[0m \u001b[0;34m\u001b[0m\u001b[0m\n",
      "\u001b[0;32m~/anaconda3/lib/python3.8/site-packages/tensorflow/python/eager/function.py\u001b[0m in \u001b[0;36m_call_flat\u001b[0;34m(self, args, captured_inputs, cancellation_manager)\u001b[0m\n\u001b[1;32m   1916\u001b[0m         and executing_eagerly):\n\u001b[1;32m   1917\u001b[0m       \u001b[0;31m# No tape is watching; skip to running the function.\u001b[0m\u001b[0;34m\u001b[0m\u001b[0;34m\u001b[0m\u001b[0;34m\u001b[0m\u001b[0m\n\u001b[0;32m-> 1918\u001b[0;31m       return self._build_call_outputs(self._inference_function.call(\n\u001b[0m\u001b[1;32m   1919\u001b[0m           ctx, args, cancellation_manager=cancellation_manager))\n\u001b[1;32m   1920\u001b[0m     forward_backward = self._select_forward_and_backward_functions(\n",
      "\u001b[0;32m~/anaconda3/lib/python3.8/site-packages/tensorflow/python/eager/function.py\u001b[0m in \u001b[0;36mcall\u001b[0;34m(self, ctx, args, cancellation_manager)\u001b[0m\n\u001b[1;32m    553\u001b[0m       \u001b[0;32mwith\u001b[0m \u001b[0m_InterpolateFunctionError\u001b[0m\u001b[0;34m(\u001b[0m\u001b[0mself\u001b[0m\u001b[0;34m)\u001b[0m\u001b[0;34m:\u001b[0m\u001b[0;34m\u001b[0m\u001b[0;34m\u001b[0m\u001b[0m\n\u001b[1;32m    554\u001b[0m         \u001b[0;32mif\u001b[0m \u001b[0mcancellation_manager\u001b[0m \u001b[0;32mis\u001b[0m \u001b[0;32mNone\u001b[0m\u001b[0;34m:\u001b[0m\u001b[0;34m\u001b[0m\u001b[0;34m\u001b[0m\u001b[0m\n\u001b[0;32m--> 555\u001b[0;31m           outputs = execute.execute(\n\u001b[0m\u001b[1;32m    556\u001b[0m               \u001b[0mstr\u001b[0m\u001b[0;34m(\u001b[0m\u001b[0mself\u001b[0m\u001b[0;34m.\u001b[0m\u001b[0msignature\u001b[0m\u001b[0;34m.\u001b[0m\u001b[0mname\u001b[0m\u001b[0;34m)\u001b[0m\u001b[0;34m,\u001b[0m\u001b[0;34m\u001b[0m\u001b[0;34m\u001b[0m\u001b[0m\n\u001b[1;32m    557\u001b[0m               \u001b[0mnum_outputs\u001b[0m\u001b[0;34m=\u001b[0m\u001b[0mself\u001b[0m\u001b[0;34m.\u001b[0m\u001b[0m_num_outputs\u001b[0m\u001b[0;34m,\u001b[0m\u001b[0;34m\u001b[0m\u001b[0;34m\u001b[0m\u001b[0m\n",
      "\u001b[0;32m~/anaconda3/lib/python3.8/site-packages/tensorflow/python/eager/execute.py\u001b[0m in \u001b[0;36mquick_execute\u001b[0;34m(op_name, num_outputs, inputs, attrs, ctx, name)\u001b[0m\n\u001b[1;32m     57\u001b[0m   \u001b[0;32mtry\u001b[0m\u001b[0;34m:\u001b[0m\u001b[0;34m\u001b[0m\u001b[0;34m\u001b[0m\u001b[0m\n\u001b[1;32m     58\u001b[0m     \u001b[0mctx\u001b[0m\u001b[0;34m.\u001b[0m\u001b[0mensure_initialized\u001b[0m\u001b[0;34m(\u001b[0m\u001b[0;34m)\u001b[0m\u001b[0;34m\u001b[0m\u001b[0;34m\u001b[0m\u001b[0m\n\u001b[0;32m---> 59\u001b[0;31m     tensors = pywrap_tfe.TFE_Py_Execute(ctx._handle, device_name, op_name,\n\u001b[0m\u001b[1;32m     60\u001b[0m                                         inputs, attrs, num_outputs)\n\u001b[1;32m     61\u001b[0m   \u001b[0;32mexcept\u001b[0m \u001b[0mcore\u001b[0m\u001b[0;34m.\u001b[0m\u001b[0m_NotOkStatusException\u001b[0m \u001b[0;32mas\u001b[0m \u001b[0me\u001b[0m\u001b[0;34m:\u001b[0m\u001b[0;34m\u001b[0m\u001b[0;34m\u001b[0m\u001b[0m\n",
      "\u001b[0;31mKeyboardInterrupt\u001b[0m: "
     ]
    }
   ],
   "source": [
    "#from tensorflow.keras.callbacks import EarlyStopping\n",
    "#early_stop = EarlyStopping(monitor='loss',mode='min',verbose=1,patience=25)\n",
    "model.fit(X_train, y_train, epochs=120, callbacks=[tb_callback])"
   ]
  },
  {
   "cell_type": "code",
   "execution_count": null,
   "metadata": {},
   "outputs": [],
   "source": [
    "model.summary()"
   ]
  },
  {
   "cell_type": "markdown",
   "metadata": {},
   "source": [
    "## 7. Salva o modelo"
   ]
  },
  {
   "cell_type": "code",
   "execution_count": null,
   "metadata": {},
   "outputs": [],
   "source": [
    "model.save('action_v6.h5') # salva o modelo"
   ]
  },
  {
   "cell_type": "code",
   "execution_count": null,
   "metadata": {},
   "outputs": [],
   "source": [
    "model.load_weights('action_v5.h5') # carrega o modelo"
   ]
  },
  {
   "cell_type": "code",
   "execution_count": null,
   "metadata": {},
   "outputs": [],
   "source": [
    "model.evaluate(X_test,y_test) # teste da acurácia"
   ]
  },
  {
   "cell_type": "markdown",
   "metadata": {},
   "source": [
    "## 8. Teste em tempo real"
   ]
  },
  {
   "cell_type": "code",
   "execution_count": null,
   "metadata": {},
   "outputs": [],
   "source": [
    "from scipy import stats"
   ]
  },
  {
   "cell_type": "code",
   "execution_count": null,
   "metadata": {},
   "outputs": [],
   "source": [
    "# função que exibe a porcentagem de cada gesto\n",
    "colors = [(245,117,16), (117,245,16), (16,117,245)]\n",
    "def prob_viz(res, actions, input_frame, colors):\n",
    "    output_frame = input_frame.copy()\n",
    "    for num, prob in enumerate(res):\n",
    "        cv2.rectangle(output_frame, (0,60+num*40), (int(prob*100), 90+num*40), colors[num], -1)\n",
    "        cv2.putText(output_frame, actions[num], (0, 85+num*40), cv2.FONT_HERSHEY_SIMPLEX, 1, (255,255,255), 2, cv2.LINE_AA)\n",
    "        \n",
    "    return output_frame"
   ]
  },
  {
   "cell_type": "code",
   "execution_count": null,
   "metadata": {},
   "outputs": [],
   "source": [
    "sequence = []\n",
    "sentence = []\n",
    "predictions = []\n",
    "threshold = 0.5 # tempo de espera para confirmar o sinal\n",
    "\n",
    "cap = cv2.VideoCapture(0)\n",
    "# configura o modelo mediapipe\n",
    "with mp_holistic.Holistic(min_detection_confidence=0.5, min_tracking_confidence=0.5) as holistic:\n",
    "    while cap.isOpened():\n",
    "\n",
    "        # le a camera\n",
    "        ret, frame = cap.read()\n",
    "\n",
    "        # faz as detecções\n",
    "        image, results = mediapipe_detection(frame, holistic)\n",
    "        print(results)\n",
    "        \n",
    "        # desenha os ponto-chave\n",
    "        draw_styled_landmarks(image, results)\n",
    "        \n",
    "        # lógica da predição\n",
    "        keypoints = extract_keypoints(results)\n",
    "        sequence.append(keypoints)\n",
    "        sequence = sequence[-30:]\n",
    "        \n",
    "        if len(sequence) == 30:\n",
    "            res = model.predict(np.expand_dims(sequence, axis=0))[0]\n",
    "            print(actions[np.argmax(res)])\n",
    "            predictions.append(np.argmax(res))\n",
    "            \n",
    "            \n",
    "            # lógica da visualização\n",
    "            if np.unique(predictions[-10:])[0]==np.argmax(res): \n",
    "                if res[np.argmax(res)] > threshold: \n",
    "                    \n",
    "                    if len(sentence) > 0: \n",
    "                        if actions[np.argmax(res)] != sentence[-1]:\n",
    "                            sentence.append(actions[np.argmax(res)])\n",
    "                    else:\n",
    "                        sentence.append(actions[np.argmax(res)])\n",
    "\n",
    "            if len(sentence) > 5: \n",
    "                sentence = sentence[-5:]\n",
    "\n",
    "            # vizualicação das probabilidades\n",
    "            image = prob_viz(res, actions, image, colors)\n",
    "            \n",
    "        cv2.rectangle(image, (0,0), (640, 40), (245, 117, 16), -1)\n",
    "        cv2.putText(image, ' '.join(sentence), (3,30), \n",
    "                       cv2.FONT_HERSHEY_SIMPLEX, 1, (255, 255, 255), 2, cv2.LINE_AA)\n",
    "        \n",
    "        # mostra na tela\n",
    "        cv2.imshow('OpenCV Feed', image)\n",
    "\n",
    "        # sai do programa\n",
    "        if cv2.waitKey(10) & 0xFF == ord('q'):\n",
    "            break\n",
    "    cap.release()\n",
    "    cv2.destroyAllWindows()"
   ]
  },
  {
   "cell_type": "code",
   "execution_count": null,
   "metadata": {},
   "outputs": [],
   "source": []
  }
 ],
 "metadata": {
  "kernelspec": {
   "display_name": "Python 3 (ipykernel)",
   "language": "python",
   "name": "python3"
  },
  "language_info": {
   "codemirror_mode": {
    "name": "ipython",
    "version": 3
   },
   "file_extension": ".py",
   "mimetype": "text/x-python",
   "name": "python",
   "nbconvert_exporter": "python",
   "pygments_lexer": "ipython3",
   "version": "3.8.8"
  }
 },
 "nbformat": 4,
 "nbformat_minor": 4
}

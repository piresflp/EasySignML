{
 "cells": [
  {
   "cell_type": "markdown",
   "metadata": {},
   "source": [
    "## 1. Importação e instalação das dependê"
   ]
  },
  {
   "cell_type": "code",
   "execution_count": null,
   "metadata": {
    "scrolled": true
   },
   "outputs": [],
   "source": [
    "#pip install tensorflow==2.4.1 tensorflow-gpu==2.4.1 opencv-python mediapipe==0.8.6.2 sklearn matplotlib --user"
   ]
  },
  {
   "cell_type": "code",
   "execution_count": 1,
   "metadata": {},
   "outputs": [],
   "source": [
    "import cv2\n",
    "import numpy as np\n",
    "import os\n",
    "from matplotlib import pyplot as plt\n",
    "import time\n",
    "import mediapipe as mp"
   ]
  },
  {
   "cell_type": "markdown",
   "metadata": {},
   "source": [
    "## 2. Mapeamento dos pontos-chave utilizando MediaPipe Holistic"
   ]
  },
  {
   "cell_type": "code",
   "execution_count": 2,
   "metadata": {},
   "outputs": [],
   "source": [
    "mp_holistic = mp.solutions.holistic # Modelo holístico\n",
    "mp_drawing = mp.solutions.drawing_utils # Desenho dos pontos"
   ]
  },
  {
   "cell_type": "code",
   "execution_count": 3,
   "metadata": {},
   "outputs": [],
   "source": [
    "def mediapipe_detection(image, model):\n",
    "    image = cv2.cvtColor(image, cv2.COLOR_BGR2RGB) # CONVERSÃO DAS CORES BGR para RGB\n",
    "    image.flags.writeable = False                  # Imagem não é mais alterável\n",
    "    results = model.process(image)                 # Faz a predição\n",
    "    image.flags.writeable = True                   # Imagem volta a ser alterável \n",
    "    image = cv2.cvtColor(image, cv2.COLOR_RGB2BGR) # CONVERSÃO DAS CORES RGB para BGR\n",
    "    return image, results"
   ]
  },
  {
   "cell_type": "code",
   "execution_count": 4,
   "metadata": {},
   "outputs": [],
   "source": [
    "def draw_landmarks(image, results):\n",
    "    mp_drawing.draw_landmarks(image, results.face_landmarks, mp_holistic.FACEMESH_CONTOURS) # Desenha conexões do rosto\n",
    "    mp_drawing.draw_landmarks(image, results.pose_landmarks, mp_holistic.POSE_CONNECTIONS) # Desenha conexões da pose\n",
    "    mp_drawing.draw_landmarks(image, results.left_hand_landmarks, mp_holistic.HAND_CONNECTIONS) # Desenha conexões da mão esquerda\n",
    "    mp_drawing.draw_landmarks(image, results.right_hand_landmarks, mp_holistic.HAND_CONNECTIONS) # Desenha conexões da mão direita"
   ]
  },
  {
   "cell_type": "code",
   "execution_count": 5,
   "metadata": {},
   "outputs": [],
   "source": [
    "def draw_styled_landmarks(image, results):\n",
    "    # Desenha conexões do rosto\n",
    "    mp_drawing.draw_landmarks(image, results.face_landmarks, mp_holistic.FACEMESH_CONTOURS, \n",
    "                             mp_drawing.DrawingSpec(color=(80,110,10), thickness=1, circle_radius=1), \n",
    "                             mp_drawing.DrawingSpec(color=(80,256,121), thickness=1, circle_radius=1)\n",
    "                             ) \n",
    "    # Desenha conexões da pose\n",
    "    mp_drawing.draw_landmarks(image, results.pose_landmarks, mp_holistic.POSE_CONNECTIONS,\n",
    "                             mp_drawing.DrawingSpec(color=(80,22,10), thickness=2, circle_radius=4), \n",
    "                             mp_drawing.DrawingSpec(color=(80,44,121), thickness=2, circle_radius=2)\n",
    "                             ) \n",
    "    # Desenha conexões da mão esquerda\n",
    "    mp_drawing.draw_landmarks(image, results.left_hand_landmarks, mp_holistic.HAND_CONNECTIONS, \n",
    "                             mp_drawing.DrawingSpec(color=(121,22,76), thickness=2, circle_radius=4), \n",
    "                             mp_drawing.DrawingSpec(color=(121,44,250), thickness=2, circle_radius=2)\n",
    "                             ) \n",
    "    # Desenha conexões da mão direita  \n",
    "    mp_drawing.draw_landmarks(image, results.right_hand_landmarks, mp_holistic.HAND_CONNECTIONS, \n",
    "                             mp_drawing.DrawingSpec(color=(245,117,66), thickness=2, circle_radius=4), \n",
    "                             mp_drawing.DrawingSpec(color=(245,66,230), thickness=2, circle_radius=2)\n",
    "                             )"
   ]
  },
  {
   "cell_type": "markdown",
   "metadata": {},
   "source": [
    "## 3. Extrair os ponto-chave"
   ]
  },
  {
   "cell_type": "code",
   "execution_count": 6,
   "metadata": {},
   "outputs": [],
   "source": [
    "def extract_keypoints(results):\n",
    "    pose = np.array([[res.x, res.y, res.z, res.visibility] for res in results.pose_landmarks.landmark]).flatten() if results.pose_landmarks else np.zeros(33*4)\n",
    "    face = np.array([[res.x, res.y, res.z] for res in results.face_landmarks.landmark]).flatten() if results.face_landmarks else np.zeros(468*3)\n",
    "    lh = np.array([[res.x, res.y, res.z] for res in results.left_hand_landmarks.landmark]).flatten() if results.left_hand_landmarks else np.zeros(21*3)\n",
    "    rh = np.array([[res.x, res.y, res.z] for res in results.right_hand_landmarks.landmark]).flatten() if results.right_hand_landmarks else np.zeros(21*3)\n",
    "    return np.concatenate([pose, face, lh, rh])"
   ]
  },
  {
   "cell_type": "markdown",
   "metadata": {},
   "source": [
    "## 4. Configuração das pastas para dados"
   ]
  },
  {
   "cell_type": "code",
   "execution_count": 7,
   "metadata": {},
   "outputs": [],
   "source": [
    "# Caminho para exportar o dado dos gestos\n",
    "DATA_PATH = os.path.join('MP_Data') \n",
    "\n",
    "# Acoes que iremos detectar\n",
    "actions = np.array(['ola', 'boa noite', 'eu_te_amo'])\n",
    "\n",
    "# 65 videos para cada pose\n",
    "no_sequences = 65\n",
    "\n",
    "# Cada possuira 30 frames\n",
    "sequence_length = 30"
   ]
  },
  {
   "cell_type": "code",
   "execution_count": 8,
   "metadata": {},
   "outputs": [],
   "source": [
    "for action in actions: # para cada gesto\n",
    "    for sequence in range(no_sequences): # para cada frame\n",
    "        try: \n",
    "            os.makedirs(os.path.join(DATA_PATH, action, str(sequence))) # cria o diretório\n",
    "        except:\n",
    "            pass"
   ]
  },
  {
   "cell_type": "markdown",
   "metadata": {},
   "source": [
    "## 5. Coleta os ponto-chave para treinamento e testes"
   ]
  },
  {
   "cell_type": "code",
   "execution_count": null,
   "metadata": {},
   "outputs": [],
   "source": [
    "cap = cv2.VideoCapture(0)\n",
    "# Configura o modelo mediapipe\n",
    "with mp_holistic.Holistic(min_detection_confidence=0.5, min_tracking_confidence=0.5) as holistic:\n",
    "    \n",
    "    # Loop pelos gestos\n",
    "    for action in actions:\n",
    "        # Loop pelas sequências (videos)\n",
    "        for sequence in range(no_sequences):\n",
    "            # Loop pelos frames\n",
    "            for frame_num in range(sequence_length):\n",
    "\n",
    "                # Le a camera\n",
    "                ret, frame = cap.read()\n",
    "\n",
    "                # Faz as detecções\n",
    "                image, results = mediapipe_detection(frame, holistic)\n",
    "                # print(results)\n",
    "\n",
    "                # Desenha os ponto-chave\n",
    "                draw_styled_landmarks(image, results)\n",
    "                \n",
    "                # se for o início de um vídeo\n",
    "                if frame_num == 0: \n",
    "                    cv2.putText(image, 'STARTING COLLECTION', (120,200), \n",
    "                               cv2.FONT_HERSHEY_SIMPLEX, 1, (0,255, 0), 4, cv2.LINE_AA)\n",
    "                    cv2.putText(image, 'Collecting frames for {} Video Number {}'.format(action, sequence), (15,12), \n",
    "                               cv2.FONT_HERSHEY_SIMPLEX, 0.5, (0, 0, 255), 1, cv2.LINE_AA)\n",
    "                    # Mostra na tela\n",
    "                    cv2.imshow('OpenCV Feed', image)\n",
    "                    cv2.waitKey(2000)\n",
    "                else: \n",
    "                    cv2.putText(image, 'Collecting frames for {} Video Number {}'.format(action, sequence), (15,12), \n",
    "                               cv2.FONT_HERSHEY_SIMPLEX, 0.5, (0, 0, 255), 1, cv2.LINE_AA)\n",
    "                    # Mostra na tela\n",
    "                    cv2.imshow('OpenCV Feed', image)\n",
    "                \n",
    "                \n",
    "                keypoints = extract_keypoints(results)\n",
    "                npy_path = os.path.join(DATA_PATH, action, str(sequence), str(frame_num))\n",
    "                np.save(npy_path, keypoints)\n",
    "\n",
    "                # Sai do programa\n",
    "                if cv2.waitKey(10) & 0xFF == ord('q'):\n",
    "                    break\n",
    "                    \n",
    "    cap.release()\n",
    "    cv2.destroyAllWindows()"
   ]
  },
  {
   "cell_type": "markdown",
   "metadata": {},
   "source": [
    "## 6. Configuração e treinamento da Rede Neural LSTM"
   ]
  },
  {
   "cell_type": "code",
   "execution_count": 9,
   "metadata": {},
   "outputs": [],
   "source": [
    "from tensorflow.keras.models import Sequential\n",
    "from tensorflow.keras.layers import LSTM, Dense\n",
    "from tensorflow.keras.callbacks import TensorBoard"
   ]
  },
  {
   "cell_type": "code",
   "execution_count": 10,
   "metadata": {},
   "outputs": [],
   "source": [
    "from sklearn.model_selection import train_test_split\n",
    "from tensorflow.keras.utils import to_categorical"
   ]
  },
  {
   "cell_type": "code",
   "execution_count": 11,
   "metadata": {},
   "outputs": [],
   "source": [
    "label_map = {label:num for num, label in enumerate(actions)}"
   ]
  },
  {
   "cell_type": "code",
   "execution_count": 12,
   "metadata": {},
   "outputs": [],
   "source": [
    "# Coleta os dados das pastas\n",
    "sequences, labels = [], []\n",
    "for action in actions:\n",
    "    for sequence in range(no_sequences):\n",
    "        window = []\n",
    "        for frame_num in range(sequence_length):\n",
    "            res = np.load(os.path.join(DATA_PATH, action, str(sequence), \"{}.npy\".format(frame_num)))\n",
    "            window.append(res)\n",
    "        sequences.append(window)\n",
    "        labels.append(label_map[action])"
   ]
  },
  {
   "cell_type": "code",
   "execution_count": 13,
   "metadata": {},
   "outputs": [],
   "source": [
    "X = np.array(sequences) # dados de treinamento"
   ]
  },
  {
   "cell_type": "code",
   "execution_count": 14,
   "metadata": {},
   "outputs": [],
   "source": [
    "y = to_categorical(labels).astype(int) # rótulo dos sinais"
   ]
  },
  {
   "cell_type": "code",
   "execution_count": 15,
   "metadata": {},
   "outputs": [],
   "source": [
    "X_train, X_test, y_train, y_test = train_test_split(X, y, test_size=0.2) # separação dos dados de treinamento, 20% será utilizado para testes"
   ]
  },
  {
   "cell_type": "code",
   "execution_count": 16,
   "metadata": {},
   "outputs": [],
   "source": [
    "log_dir = os.path.join('Logs')\n",
    "tb_callback = TensorBoard(log_dir=log_dir)"
   ]
  },
  {
   "cell_type": "code",
   "execution_count": 17,
   "metadata": {},
   "outputs": [],
   "source": [
    "model = Sequential()\n",
    "model.add(LSTM(64, return_sequences=True, activation='relu', input_shape=(30,1662)))\n",
    "model.add(LSTM(128, return_sequences=True, activation='relu'))\n",
    "model.add(LSTM(64, return_sequences=False, activation='relu'))\n",
    "model.add(Dense(64, activation='relu'))\n",
    "model.add(Dense(32, activation='relu'))\n",
    "model.add(Dense(actions.shape[0], activation='softmax'))"
   ]
  },
  {
   "cell_type": "code",
   "execution_count": 18,
   "metadata": {},
   "outputs": [],
   "source": [
    "model.compile(optimizer='Adam', loss='categorical_crossentropy', metrics=['categorical_accuracy'])"
   ]
  },
  {
   "cell_type": "code",
   "execution_count": 19,
   "metadata": {
    "scrolled": false
   },
   "outputs": [
    {
     "name": "stdout",
     "output_type": "stream",
     "text": [
      "Epoch 1/500\n",
      "5/5 [==============================] - 3s 151ms/step - loss: 1.2490 - categorical_accuracy: 0.3161\n",
      "Epoch 2/500\n",
      "5/5 [==============================] - 0s 56ms/step - loss: 1.3043 - categorical_accuracy: 0.4354\n",
      "Epoch 3/500\n",
      "5/5 [==============================] - 0s 52ms/step - loss: 2.1219 - categorical_accuracy: 0.3446\n",
      "Epoch 4/500\n",
      "5/5 [==============================] - 0s 57ms/step - loss: 1.1846 - categorical_accuracy: 0.2939\n",
      "Epoch 5/500\n",
      "5/5 [==============================] - 0s 55ms/step - loss: 1.0688 - categorical_accuracy: 0.3957\n",
      "Epoch 6/500\n",
      "5/5 [==============================] - 0s 55ms/step - loss: 1.0046 - categorical_accuracy: 0.5437\n",
      "Epoch 7/500\n",
      "5/5 [==============================] - 0s 54ms/step - loss: 1.0196 - categorical_accuracy: 0.5529\n",
      "Epoch 8/500\n",
      "5/5 [==============================] - 0s 60ms/step - loss: 0.9697 - categorical_accuracy: 0.5207\n",
      "Epoch 9/500\n",
      "5/5 [==============================] - 0s 49ms/step - loss: 0.8695 - categorical_accuracy: 0.5825\n",
      "Epoch 10/500\n",
      "5/5 [==============================] - 0s 53ms/step - loss: 0.8590 - categorical_accuracy: 0.5605\n",
      "Epoch 11/500\n",
      "5/5 [==============================] - 0s 52ms/step - loss: 1.0069 - categorical_accuracy: 0.3996\n",
      "Epoch 12/500\n",
      "5/5 [==============================] - 0s 50ms/step - loss: 1.0016 - categorical_accuracy: 0.4777\n",
      "Epoch 13/500\n",
      "5/5 [==============================] - 0s 50ms/step - loss: 0.9075 - categorical_accuracy: 0.5394\n",
      "Epoch 14/500\n",
      "5/5 [==============================] - 0s 59ms/step - loss: 0.7952 - categorical_accuracy: 0.5789\n",
      "Epoch 15/500\n",
      "5/5 [==============================] - 0s 58ms/step - loss: 0.7232 - categorical_accuracy: 0.5539\n",
      "Epoch 16/500\n",
      "5/5 [==============================] - 0s 55ms/step - loss: 0.6165 - categorical_accuracy: 0.6522\n",
      "Epoch 17/500\n",
      "5/5 [==============================] - 0s 60ms/step - loss: 1.2800 - categorical_accuracy: 0.5117\n",
      "Epoch 18/500\n",
      "5/5 [==============================] - 0s 49ms/step - loss: 1.6436 - categorical_accuracy: 0.3234\n",
      "Epoch 19/500\n",
      "5/5 [==============================] - 0s 53ms/step - loss: 1.1279 - categorical_accuracy: 0.3125\n",
      "Epoch 20/500\n",
      "5/5 [==============================] - 0s 58ms/step - loss: 1.0978 - categorical_accuracy: 0.3420\n",
      "Epoch 21/500\n",
      "5/5 [==============================] - 0s 57ms/step - loss: 1.0972 - categorical_accuracy: 0.3273\n",
      "Epoch 22/500\n",
      "5/5 [==============================] - 0s 57ms/step - loss: 1.0984 - categorical_accuracy: 0.3056\n",
      "Epoch 23/500\n",
      "5/5 [==============================] - 0s 56ms/step - loss: 1.0960 - categorical_accuracy: 0.3342\n",
      "Epoch 24/500\n",
      "5/5 [==============================] - 0s 49ms/step - loss: 1.1001 - categorical_accuracy: 0.2839\n",
      "Epoch 25/500\n",
      "5/5 [==============================] - 0s 55ms/step - loss: 1.0978 - categorical_accuracy: 0.3325\n",
      "Epoch 26/500\n",
      "5/5 [==============================] - 0s 50ms/step - loss: 1.0949 - categorical_accuracy: 0.3299\n",
      "Epoch 27/500\n",
      "5/5 [==============================] - 0s 52ms/step - loss: 1.0913 - categorical_accuracy: 0.3346\n",
      "Epoch 28/500\n",
      "5/5 [==============================] - 0s 58ms/step - loss: 1.0772 - categorical_accuracy: 0.2793\n",
      "Epoch 29/500\n",
      "5/5 [==============================] - 0s 54ms/step - loss: 1.0280 - categorical_accuracy: 0.3602\n",
      "Epoch 30/500\n",
      "5/5 [==============================] - 0s 58ms/step - loss: 1.0401 - categorical_accuracy: 0.3263\n",
      "Epoch 31/500\n",
      "5/5 [==============================] - 0s 50ms/step - loss: 1.0334 - categorical_accuracy: 0.3753\n",
      "Epoch 00031: early stopping\n"
     ]
    },
    {
     "data": {
      "text/plain": [
       "<tensorflow.python.keras.callbacks.History at 0x7f6bf8365eb0>"
      ]
     },
     "execution_count": 19,
     "metadata": {},
     "output_type": "execute_result"
    }
   ],
   "source": [
    "from tensorflow.keras.callbacks import EarlyStopping\n",
    "early_stop = EarlyStopping(monitor='loss',mode='min',verbose=1,patience=15)\n",
    "model.fit(X_train, y_train, epochs=500, callbacks=[early_stop,tb_callback])"
   ]
  },
  {
   "cell_type": "code",
   "execution_count": null,
   "metadata": {},
   "outputs": [],
   "source": [
    "model.summary()"
   ]
  },
  {
   "cell_type": "markdown",
   "metadata": {},
   "source": [
    "## 7. Salva o modelo"
   ]
  },
  {
   "cell_type": "code",
   "execution_count": null,
   "metadata": {},
   "outputs": [],
   "source": [
    "model.save('action_v1.h5') # salva o modelo"
   ]
  },
  {
   "cell_type": "code",
   "execution_count": null,
   "metadata": {},
   "outputs": [],
   "source": [
    "model.load_weights('action_v1.h5') # carrega o modelo"
   ]
  },
  {
   "cell_type": "code",
   "execution_count": 20,
   "metadata": {},
   "outputs": [
    {
     "name": "stdout",
     "output_type": "stream",
     "text": [
      "1/1 [==============================] - 0s 445ms/step - loss: 0.9580 - categorical_accuracy: 0.5333\n"
     ]
    },
    {
     "data": {
      "text/plain": [
       "[0.9579601287841797, 0.5333333611488342]"
      ]
     },
     "execution_count": 20,
     "metadata": {},
     "output_type": "execute_result"
    }
   ],
   "source": [
    "model.evaluate(X_test,y_test) # teste da acurácia"
   ]
  },
  {
   "cell_type": "markdown",
   "metadata": {},
   "source": [
    "## 8. Teste em tempo real"
   ]
  },
  {
   "cell_type": "code",
   "execution_count": null,
   "metadata": {},
   "outputs": [],
   "source": [
    "from scipy import stats"
   ]
  },
  {
   "cell_type": "code",
   "execution_count": null,
   "metadata": {},
   "outputs": [],
   "source": [
    "# função que exibe a porcentagem de cada gesto\n",
    "colors = [(245,117,16), (117,245,16), (16,117,245)]\n",
    "def prob_viz(res, actions, input_frame, colors):\n",
    "    output_frame = input_frame.copy()\n",
    "    for num, prob in enumerate(res):\n",
    "        cv2.rectangle(output_frame, (0,60+num*40), (int(prob*100), 90+num*40), colors[num], -1)\n",
    "        cv2.putText(output_frame, actions[num], (0, 85+num*40), cv2.FONT_HERSHEY_SIMPLEX, 1, (255,255,255), 2, cv2.LINE_AA)\n",
    "        \n",
    "    return output_frame"
   ]
  },
  {
   "cell_type": "code",
   "execution_count": null,
   "metadata": {},
   "outputs": [],
   "source": [
    "sequence = []\n",
    "sentence = []\n",
    "predictions = []\n",
    "threshold = 0.5 # tempo de espera para confirmar o sinal\n",
    "\n",
    "cap = cv2.VideoCapture(0)\n",
    "# configura o modelo mediapipe\n",
    "with mp_holistic.Holistic(min_detection_confidence=0.5, min_tracking_confidence=0.5) as holistic:\n",
    "    while cap.isOpened():\n",
    "\n",
    "        # le a camera\n",
    "        ret, frame = cap.read()\n",
    "\n",
    "        # faz as detecções\n",
    "        image, results = mediapipe_detection(frame, holistic)\n",
    "        print(results)\n",
    "        \n",
    "        # desenha os ponto-chave\n",
    "        draw_styled_landmarks(image, results)\n",
    "        \n",
    "        # lógica da predição\n",
    "        keypoints = extract_keypoints(results)\n",
    "        sequence.append(keypoints)\n",
    "        sequence = sequence[-30:]\n",
    "        \n",
    "        if len(sequence) == 30:\n",
    "            res = model.predict(np.expand_dims(sequence, axis=0))[0]\n",
    "            print(actions[np.argmax(res)])\n",
    "            predictions.append(np.argmax(res))\n",
    "            \n",
    "            \n",
    "            # lógica da visualização\n",
    "            if np.unique(predictions[-10:])[0]==np.argmax(res): \n",
    "                if res[np.argmax(res)] > threshold: \n",
    "                    \n",
    "                    if len(sentence) > 0: \n",
    "                        if actions[np.argmax(res)] != sentence[-1]:\n",
    "                            sentence.append(actions[np.argmax(res)])\n",
    "                    else:\n",
    "                        sentence.append(actions[np.argmax(res)])\n",
    "\n",
    "            if len(sentence) > 5: \n",
    "                sentence = sentence[-5:]\n",
    "\n",
    "            # vizualicação das probabilidades\n",
    "            image = prob_viz(res, actions, image, colors)\n",
    "            \n",
    "        cv2.rectangle(image, (0,0), (640, 40), (245, 117, 16), -1)\n",
    "        cv2.putText(image, ' '.join(sentence), (3,30), \n",
    "                       cv2.FONT_HERSHEY_SIMPLEX, 1, (255, 255, 255), 2, cv2.LINE_AA)\n",
    "        \n",
    "        # mostra na tela\n",
    "        cv2.imshow('OpenCV Feed', image)\n",
    "\n",
    "        # sai do programa\n",
    "        if cv2.waitKey(10) & 0xFF == ord('q'):\n",
    "            break\n",
    "    cap.release()\n",
    "    cv2.destroyAllWindows()"
   ]
  },
  {
   "cell_type": "code",
   "execution_count": null,
   "metadata": {},
   "outputs": [],
   "source": []
  }
 ],
 "metadata": {
  "kernelspec": {
   "display_name": "Python 3 (ipykernel)",
   "language": "python",
   "name": "python3"
  },
  "language_info": {
   "codemirror_mode": {
    "name": "ipython",
    "version": 3
   },
   "file_extension": ".py",
   "mimetype": "text/x-python",
   "name": "python",
   "nbconvert_exporter": "python",
   "pygments_lexer": "ipython3",
   "version": "3.8.8"
  }
 },
 "nbformat": 4,
 "nbformat_minor": 4
}
